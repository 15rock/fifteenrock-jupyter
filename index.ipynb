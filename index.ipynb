{
 "cells": [
  {
   "cell_type": "markdown",
   "metadata": {},
   "source": [
    "# Welcome to 15rock!"
   ]
  },
  {
   "cell_type": "markdown",
   "metadata": {},
   "source": [
    "## README"
   ]
  },
  {
   "cell_type": "markdown",
   "metadata": {},
   "source": [
    "- This notebook is temporary! Please save your work locally if required.\n",
    "- The user below is a demo user COMMONLY accessed by all users. This means your tables can be seen, modified and  laughed at. If you want your own user, register here: xyz.com"
   ]
  },
  {
   "cell_type": "code",
   "execution_count": 11,
   "metadata": {},
   "outputs": [],
   "source": [
    "import fifteenrock"
   ]
  },
  {
   "cell_type": "code",
   "execution_count": 12,
   "metadata": {},
   "outputs": [],
   "source": [
    "url = 'https://bddcxzm20m.execute-api.us-east-1.amazonaws.com/staging'\n",
    "credentials =  {\"type\": \"user_name\",\n",
    "                \"user_name\": 'demo-user',\n",
    "                \"password\": \"mydemopassword\"}\n"
   ]
  },
  {
   "cell_type": "code",
   "execution_count": 13,
   "metadata": {},
   "outputs": [],
   "source": [
    "dc = fifteenrock.get_database_client(url=url, credentials=credentials)"
   ]
  },
  {
   "cell_type": "markdown",
   "metadata": {},
   "source": [
    "# Raw Data"
   ]
  },
  {
   "cell_type": "code",
   "execution_count": 14,
   "metadata": {},
   "outputs": [],
   "source": [
    "result = dc.query_sql('SELECT * from demo.customer;')"
   ]
  },
  {
   "cell_type": "code",
   "execution_count": 15,
   "metadata": {},
   "outputs": [
    {
     "data": {
      "text/plain": [
       "[{'age': 35, 'id': 1, 'name': 'Joe'},\n",
       " {'age': 25, 'id': 2, 'name': 'Bob'},\n",
       " {'age': 22, 'id': 3, 'name': 'Gail'}]"
      ]
     },
     "execution_count": 15,
     "metadata": {},
     "output_type": "execute_result"
    }
   ],
   "source": [
    "result"
   ]
  },
  {
   "cell_type": "code",
   "execution_count": 16,
   "metadata": {},
   "outputs": [
    {
     "data": {
      "text/plain": [
       "{'result': 'SQL command executed successfully'}"
      ]
     },
     "execution_count": 16,
     "metadata": {},
     "output_type": "execute_result"
    }
   ],
   "source": [
    "create_query = '''\n",
    "create table if not exists demo.scoring_model (    id int,\n",
    "                                 customer_id int  REFERENCES demo.customer(id),\n",
    "                                 score float,\n",
    "                                 PRIMARY KEY(id));\n",
    "'''\n",
    "\n",
    "dc.execute_command(create_query)"
   ]
  },
  {
   "cell_type": "markdown",
   "metadata": {},
   "source": [
    "# Risk Model: Analysis"
   ]
  },
  {
   "cell_type": "code",
   "execution_count": 7,
   "metadata": {},
   "outputs": [
    {
     "name": "stdout",
     "output_type": "stream",
     "text": [
      "1 1 7.0\n",
      "2 2 250\n",
      "3 3 220\n"
     ]
    }
   ],
   "source": [
    "def has_achieved_wisdom(age, threshold):\n",
    "    return age > threshold\n",
    "\n",
    "customer_data = dc.query_sql(\"select id, age from demo.customer;\")\n",
    "\n",
    "\n",
    "# customer_data  looks like   [{'id': 1, 'age': 35}, {'id': 2, 'age': 25}, {'id': 3, 'age': 24}]\n",
    "\n",
    "# Complex Risk Model\n",
    "scores = []\n",
    "for score_id, customer in enumerate(customer_data, 1):\n",
    "    age = customer['age']\n",
    "    if has_achieved_wisdom(age, 30):\n",
    "        risk_score = age * 0.2\n",
    "    else:\n",
    "        risk_score = age * 10\n",
    "    print(score_id, customer['id'], risk_score)\n",
    "    scores.append([score_id, customer['id'], risk_score])\n",
    "\n",
    "# # The values: lower the better\n",
    "# # Columns below: ScoreId, CustomerId, RiskScore\n",
    "# # scores = [[1, 1, 7.0],\n",
    "# #           [2, 2, 50],\n",
    "# #           [3, 3, 48]]\n",
    "#\n",
    "\n",
    "dc.execute_command(\"TRUNCATE demo.scoring_model;\")\n",
    "\n",
    "dc.insert_sql(table='demo.scoring_model',\n",
    "              columns=[\"id\", \"customer_id\", \"score\"],\n",
    "              values=scores)\n"
   ]
  },
  {
   "cell_type": "markdown",
   "metadata": {},
   "source": [
    "# Reporting/Analysis"
   ]
  },
  {
   "cell_type": "code",
   "execution_count": 9,
   "metadata": {},
   "outputs": [],
   "source": [
    "result = dc.query_sql(\n",
    "        'SELECT customer.name, scoring_model.score from demo.customer as customer, demo.scoring_model as scoring_model'\n",
    "        ' where customer.id = scoring_model.customer_id')"
   ]
  },
  {
   "cell_type": "code",
   "execution_count": 10,
   "metadata": {},
   "outputs": [
    {
     "data": {
      "text/plain": [
       "[{'name': 'Joe', 'score': 7.0},\n",
       " {'name': 'Bob', 'score': 250.0},\n",
       " {'name': 'Gail', 'score': 220.0}]"
      ]
     },
     "execution_count": 10,
     "metadata": {},
     "output_type": "execute_result"
    }
   ],
   "source": [
    "result"
   ]
  },
  {
   "cell_type": "code",
   "execution_count": null,
   "metadata": {},
   "outputs": [],
   "source": []
  }
 ],
 "metadata": {
  "kernelspec": {
   "display_name": "Python 3",
   "language": "python",
   "name": "python3"
  },
  "language_info": {
   "codemirror_mode": {
    "name": "ipython",
    "version": 3
   },
   "file_extension": ".py",
   "mimetype": "text/x-python",
   "name": "python",
   "nbconvert_exporter": "python",
   "pygments_lexer": "ipython3",
   "version": "3.6.8"
  }
 },
 "nbformat": 4,
 "nbformat_minor": 1
}
